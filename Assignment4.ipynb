{
 "cells": [
  {
   "cell_type": "code",
   "execution_count": 1,
   "id": "c6ca1ed0",
   "metadata": {},
   "outputs": [
    {
     "name": "stdout",
     "output_type": "stream",
     "text": [
      "[4,5,3,8,9,7]\n",
      "30240.0\n"
     ]
    }
   ],
   "source": [
    "\"\"\"\n",
    "1. Write a Python function to multiply all the numbers in a list.\n",
    "\"\"\"\n",
    "def mulallnum(a_lst):\n",
    "    o=\"\"\n",
    "    j=1\n",
    "    for k in a_lst:\n",
    "        if k!=\"[\" and k!=\"]\":\n",
    "            o+=k\n",
    "    p=o.split(\",\")\n",
    "    po=[]\n",
    "    for t in p:\n",
    "        tp=float(t)\n",
    "        po.append(tp)\n",
    "    for i in po:\n",
    "        j=j*i\n",
    "    return j\n",
    "l=input()\n",
    "print(mulallnum(l))"
   ]
  },
  {
   "cell_type": "code",
   "execution_count": 2,
   "id": "2116c877",
   "metadata": {},
   "outputs": [
    {
     "name": "stdout",
     "output_type": "stream",
     "text": [
      "reverse\n",
      "esrever\n"
     ]
    }
   ],
   "source": [
    "\"\"\"\n",
    "2. Write a Python function to reverse a string\n",
    "i) use for loop\n",
    "\"\"\"\n",
    "\n",
    "def revstr(a_str):\n",
    "    c=\"\"\n",
    "    for  i in range(len(s)-1,-1,-1):\n",
    "        c+=a_str[i].lower()\n",
    "    return c    \n",
    "\n",
    "s=input()\n",
    "print(revstr(s))\n"
   ]
  },
  {
   "cell_type": "code",
   "execution_count": 3,
   "id": "9cc9312c",
   "metadata": {},
   "outputs": [
    {
     "name": "stdout",
     "output_type": "stream",
     "text": [
      "reverse\n",
      "esrever\n"
     ]
    }
   ],
   "source": [
    "\"\"\"\n",
    "2. Write a Python function to reverse a string\n",
    "ii) use while loop\n",
    "\"\"\"\n",
    "def revstr(a_str):\n",
    "    c=\"\"\n",
    "    i=len(a_str)-1\n",
    "    while i>=0:\n",
    "        c+=a_str[i].lower()\n",
    "        i=i-1\n",
    "    return c\n",
    "\n",
    "\n",
    "s=input()\n",
    "print(revstr(s))"
   ]
  },
  {
   "cell_type": "code",
   "execution_count": 4,
   "id": "b847972b",
   "metadata": {},
   "outputs": [
    {
     "name": "stdout",
     "output_type": "stream",
     "text": [
      "Enter the first number : 5\n",
      "Enter the second number : 6\n",
      "Result of Addition of Two Variables = 11.0\n",
      "Result of Subtraction of Two Variables (when the smaller value is subtracted by the greater value) = -1.0\n",
      "Result of Subtraction of Two Variables (when the greater value is subtracted by the smaller value) = 1.0\n"
     ]
    }
   ],
   "source": [
    "\"\"\"\n",
    "3. Write a function to add and subtract two variables\n",
    "\"\"\"\n",
    "\n",
    "def aands(a,b):\n",
    "    add=a+b\n",
    "    sub1=a-b\n",
    "    sub2=b-a\n",
    "    print(\"Result of Addition of Two Variables =\",add)\n",
    "    if sub1<0:\n",
    "        print(\"Result of Subtraction of Two Variables (when the smaller value is subtracted by the greater value) =\",sub1)\n",
    "    if sub2<0:\n",
    "        print(\"Result of Subtraction of Two Variables (when the smaller value is subtracted by the greater value) =\",sub2)\n",
    "    if sub1>0:\n",
    "        print(\"Result of Subtraction of Two Variables (when the greater value is subtracted by the smaller value) =\",sub1)\n",
    "    if sub2>0:\n",
    "        print(\"Result of Subtraction of Two Variables (when the greater value is subtracted by the smaller value) =\",sub2)\n",
    "    if sub1==0 and sub2==0:\n",
    "        print(\"Result of Subtraction of Two Variables (when both the variables have equal value) =\",sub1)\n",
    "o=float(input(\"Enter the first number : \"))\n",
    "p=float(input(\"Enter the second number : \"))\n",
    "aands(o,p)"
   ]
  },
  {
   "cell_type": "code",
   "execution_count": 5,
   "id": "910d44a8",
   "metadata": {},
   "outputs": [
    {
     "name": "stdout",
     "output_type": "stream",
     "text": [
      "999996\n",
      "True\n"
     ]
    }
   ],
   "source": [
    "\"\"\"\n",
    "4.Write a function to check the number is divisible by 12\n",
    "\"\"\"\n",
    "\n",
    "def chknumdivby12(a_cn):\n",
    "    if a_cn%12==0:\n",
    "        return True\n",
    "    else:\n",
    "        return False\n",
    "\n",
    "c=float(input())\n",
    "print(chknumdivby12(c))"
   ]
  },
  {
   "cell_type": "code",
   "execution_count": 7,
   "id": "23e44033",
   "metadata": {},
   "outputs": [
    {
     "name": "stdout",
     "output_type": "stream",
     "text": [
      "Please enter the Month and Year (Enter as shown: January 2023):February 2024\n",
      "Number of days in the month of february is 29 and the number of weeks in the month of february is 4.142857142857143\n"
     ]
    }
   ],
   "source": [
    "\"\"\"\n",
    "5.Write a function to calculate the number of days and weeks.\n",
    "\"\"\"\n",
    "\n",
    "def daysandweeks_inamonth(c):\n",
    "    c=c.split(\" \")\n",
    "    days =0\n",
    "    lp=\"\"\n",
    "    oneyearindays=0\n",
    "    for i in c:\n",
    "        if c.index(i)==0:\n",
    "            month=i.lower()\n",
    "        if c.index(i)==1:\n",
    "            year=int(i)\n",
    "    \n",
    "    if year%4==0 and year%100!=0:\n",
    "        lp=\"Leap_Year\"\n",
    "    elif year%100==0 and year%400==0:\n",
    "        lp=\"Leap_Year\"\n",
    "    else:\n",
    "        lp=\"Not_a_Leap_Year\"\n",
    "    if lp==\"Leap_Year\":\n",
    "        oneyearindays=366\n",
    "    if lp==\"Not_a_Leap_Year\":\n",
    "        oneyearindays=365.25\n",
    "    if month==\"jan\"or month==\"january\":\n",
    "        days=31\n",
    "    if month==\"february\" or month==\"feb\":\n",
    "        if lp==\"Not_a_Leap_Year\":\n",
    "            days=28\n",
    "        if lp==\"Leap_Year\":\n",
    "            days=29\n",
    "    if month==\"mar\"or month==\"march\":\n",
    "        days=31\n",
    "    if month==\"apr\"or month==\"april\" :\n",
    "        days=30\n",
    "    if month==\"may\":\n",
    "        days=31\n",
    "    if month==\"june\":\n",
    "        days=30\n",
    "    if month==\"july\":\n",
    "        days=31\n",
    "    if month==\"aug\" or month==\"august\":\n",
    "        days=31\n",
    "    if month==\"sept\"or month==\"september\" :\n",
    "        days=30\n",
    "    if month==\"oct\"or month==\"october\" :\n",
    "        days=31\n",
    "    if month==\"nov\"or month==\"november\" :\n",
    "        days=30\n",
    "    if month==\"dec\"or month==\"december\" :\n",
    "        days=31\n",
    "    weeks=days/7\n",
    "    print(\"Number of days in the month of\",month,\"is\",days,\"and the number of weeks in the month of\",month,\"is\",weeks)\n",
    "\n",
    "d=input(\"Please enter the Month and Year (Enter as shown: January 2023):\")\n",
    "daysandweeks_inamonth(d)"
   ]
  },
  {
   "cell_type": "code",
   "execution_count": 8,
   "id": "b232ea2a",
   "metadata": {},
   "outputs": [
    {
     "name": "stdout",
     "output_type": "stream",
     "text": [
      "Enter a number to find its factorial (Enter as shown: 6!): 5!\n",
      "120\n"
     ]
    }
   ],
   "source": [
    "\"\"\"\n",
    "6.Write a Python function to Find the 5!?\n",
    "\"\"\"\n",
    "def fac(a_fac):\n",
    "    j=1\n",
    "    a_fac.split(\"!\")\n",
    "    f=int(a_fac[0])\n",
    "    while f>0:\n",
    "            j=j*f\n",
    "            f-=1\n",
    "    return j\n",
    "\n",
    "facto=input(\"Enter a number to find its factorial (Enter as shown: 6!): \")\n",
    "print(fac(facto))"
   ]
  },
  {
   "cell_type": "code",
   "execution_count": 9,
   "id": "8de1854d",
   "metadata": {},
   "outputs": [
    {
     "name": "stdout",
     "output_type": "stream",
     "text": [
      "Enter a list : [1,2,3,3,3,3,4,5,4,2,4,2,4,4,2,4,5,4,34,654,5,7,6,5,4,3]\n",
      "['5', '34', '2', '3', '1', '7', '654', '6', '4']\n"
     ]
    }
   ],
   "source": [
    "\"\"\"\n",
    "7.Write a Python function to find the unique elements of the list =\n",
    "[1,2,3,3,3,3,4,5,4,2,4,2,4,4,2,4,5,4,34,654,5,7,6,5,4,3]\n",
    "\n",
    "\"\"\"\n",
    "def unq(a_u):\n",
    "    o=\"\"\n",
    "    for i in a_u:\n",
    "        if i!=\"[\" and i!=\"]\":\n",
    "            o+=i\n",
    "    b=o.split(\",\")\n",
    "    u=list(set(b))\n",
    "    return u\n",
    "\n",
    "ui=str(input(\"Enter a list : \"))\n",
    "print(unq(ui))"
   ]
  },
  {
   "cell_type": "code",
   "execution_count": 10,
   "id": "436b14d7",
   "metadata": {},
   "outputs": [
    {
     "name": "stdout",
     "output_type": "stream",
     "text": [
      "Enter the principal amount: 5000\n",
      "Enter the rate of interest in percentage: 5\n",
      "Enter the time in years: 5\n",
      "Simple Interest = ₹.1250.0\n"
     ]
    }
   ],
   "source": [
    "\"\"\"\n",
    "Types of arguments\n",
    "1. Required arguments\n",
    "2. Keyword arguments\n",
    "3. Default arguments\n",
    "1. Required arguments:\n",
    "Write a program to calculate Simple Interest which accepts three arguments and\n",
    "returns the simple interest accordingly\n",
    "\"\"\"\n",
    "def si(p,r,t):\n",
    "    SimpleInt=(p*r*t)/100\n",
    "    return SimpleInt\n",
    "\n",
    "ps=float(input(\"Enter the principal amount: \"))\n",
    "rs=float(input(\"Enter the rate of interest in percentage: \"))\n",
    "ts=float(input(\"Enter the time in years: \"))\n",
    "print(\"Simple Interest = ₹.\",si(ps,rs,ts),sep=\"\")\n"
   ]
  },
  {
   "cell_type": "code",
   "execution_count": 12,
   "id": "476525f0",
   "metadata": {},
   "outputs": [
    {
     "name": "stdout",
     "output_type": "stream",
     "text": [
      "Enter the name of the person:Yaswant\n",
      "Enter the message you want to print:Hi\n",
      "printing message with Yaswant and Hi\n"
     ]
    }
   ],
   "source": [
    "\"\"\"\n",
    "2.Keyword arguments:\n",
    "Write a function which will be called with the name and message as the keyword\n",
    "arguments. Output will be \"printing the message with 'name' and 'message'\"\n",
    "\"\"\"\n",
    "def nm(name,message):\n",
    "    print(\"printing message with\",name,\"and\",message)\n",
    "\n",
    "n=input(\"Enter the name of the person:\")\n",
    "m=input(\"Enter the message you want to print:\")\n",
    "nm(n,m)"
   ]
  },
  {
   "cell_type": "code",
   "execution_count": 13,
   "id": "51222bad",
   "metadata": {},
   "outputs": [
    {
     "name": "stdout",
     "output_type": "stream",
     "text": [
      "Enter your name: Yaswant\n",
      "Enter your age: \n",
      "My name is 'Yaswant' and age is '22'\n"
     ]
    }
   ],
   "source": [
    "\"\"\"\n",
    "3.Default Arguments:\n",
    "Write a function which will be called with the name as keyword argument and age\n",
    "as the default arguments. Output will be \"My name is 'name' and 'age is 27'\"\n",
    "\"\"\"\n",
    "def na(name, age=22):\n",
    "    print(f\"My name is '{name}' and age is '{age}'\")\n",
    "\n",
    "n=input(\"Enter your name: \")\n",
    "a=input(\"Enter your age: \")\n",
    "if a==\"\":\n",
    "    na(n)\n",
    "else:\n",
    "    na(n,a)"
   ]
  },
  {
   "cell_type": "code",
   "execution_count": 14,
   "id": "f0e7b4a4",
   "metadata": {},
   "outputs": [
    {
     "name": "stdout",
     "output_type": "stream",
     "text": [
      "Enter a number:9\n",
      "Odd\n"
     ]
    }
   ],
   "source": [
    "\"\"\"\n",
    "lambda function\n",
    "1. Get a number from user, find if it is even or odd number?\n",
    "\"\"\"\n",
    "g=lambda n: \"Even\" if n%2==0 else \"Odd\"\n",
    "c=int(input(\"Enter a number:\"))\n",
    "print(g(c))"
   ]
  },
  {
   "cell_type": "code",
   "execution_count": 15,
   "id": "77da8b67",
   "metadata": {},
   "outputs": [
    {
     "name": "stdout",
     "output_type": "stream",
     "text": [
      "Enter a number to find its square: 7\n",
      "49\n"
     ]
    }
   ],
   "source": [
    "\"\"\"\n",
    "2. Take a input from user and square it\n",
    "\"\"\"\n",
    "i = lambda s: s**2\n",
    "ui=int(input(\"Enter a number to find its square: \"))\n",
    "print(i(ui)) "
   ]
  },
  {
   "cell_type": "code",
   "execution_count": 16,
   "id": "62640a54",
   "metadata": {},
   "outputs": [
    {
     "name": "stdout",
     "output_type": "stream",
     "text": [
      "Enter a number : 4\n",
      "True\n"
     ]
    }
   ],
   "source": [
    "\"\"\"\n",
    "3. Write a lambda function using logical operators?\n",
    "Hint:\n",
    "Check x < 10\n",
    "Output: False / True\n",
    "\"\"\"\n",
    "h = lambda x: True if x<10 else False\n",
    "ui = int(input(\"Enter a number : \"))\n",
    "print(h(ui))"
   ]
  },
  {
   "cell_type": "code",
   "execution_count": 17,
   "id": "c18dfc55",
   "metadata": {},
   "outputs": [
    {
     "name": "stdout",
     "output_type": "stream",
     "text": [
      "Enter a number:6\n",
      "11\n"
     ]
    }
   ],
   "source": [
    "\"\"\"\n",
    "4. Take an integer input from the user, add 5 to the number and print it back?\n",
    "\"\"\"\n",
    "\n",
    "a = lambda x : x+5\n",
    "k = int(input(\"Enter a number:\"))\n",
    "print(a(k))"
   ]
  },
  {
   "cell_type": "code",
   "execution_count": 18,
   "id": "84aac46c",
   "metadata": {},
   "outputs": [
    {
     "name": "stdout",
     "output_type": "stream",
     "text": [
      "[53, 78, 105]\n"
     ]
    }
   ],
   "source": [
    "\"\"\"\n",
    "Map:\n",
    "1. Add two lists using map ()\n",
    "lis1 = [12, 24, 36]\n",
    "lis2 = [41, 54, 69]\n",
    "Output:\n",
    "[53, 78, 105]\n",
    "\"\"\"\n",
    "\n",
    "list1=[12,24,36]\n",
    "list2=[41,54,69]\n",
    "a=list(map(lambda x,y: x+y,list1,list2))\n",
    "print(a)"
   ]
  },
  {
   "cell_type": "code",
   "execution_count": 19,
   "id": "3a8b9da8",
   "metadata": {},
   "outputs": [
    {
     "name": "stdout",
     "output_type": "stream",
     "text": [
      "[1, 4, 9, 16, 25, 36, 49]\n"
     ]
    }
   ],
   "source": [
    "\"\"\"\n",
    "2. Use Lambda and map functions on a List, to square each element in the list =\n",
    "[1, 2, 3, 4, 5, 6, 7]\n",
    "\"\"\"\n",
    "list1=[1, 2, 3, 4, 5, 6, 7]\n",
    "s=list(map(lambda x: x**2,list1))\n",
    "print(s)"
   ]
  },
  {
   "cell_type": "code",
   "execution_count": 20,
   "id": "5665c1b0",
   "metadata": {},
   "outputs": [
    {
     "name": "stdout",
     "output_type": "stream",
     "text": [
      "['Odd', 'Even', 'Odd', 'Even', 'Odd', 'Even', 'Odd']\n"
     ]
    }
   ],
   "source": [
    "\"\"\"\n",
    "3.In the given list [1, 2, 3, 4, 5, 6, 7], find the even and odd elements in the\n",
    "list, use the map()function\n",
    "\"\"\"\n",
    "list1 = [1, 2, 3, 4, 5, 6, 7]\n",
    "ed=list(map(lambda n: \"Even\" if n%2==0 else \"Odd\",list1))\n",
    "print(ed)"
   ]
  },
  {
   "cell_type": "code",
   "execution_count": 21,
   "id": "a3b5f55c",
   "metadata": {},
   "outputs": [
    {
     "name": "stdout",
     "output_type": "stream",
     "text": [
      "[1, 1, 1, 2, 62, 0, 3]\n"
     ]
    }
   ],
   "source": [
    "\"\"\"\n",
    "4. In the given list [11, 12, 13, 14, 435, 6, 27], perform the Floor division\n",
    "using 7 on each elements on the list\n",
    "\"\"\"\n",
    "list1 = [11, 12, 13, 14, 435, 6, 27]\n",
    "f=list(map(lambda x: x//7,list1))\n",
    "print(f)"
   ]
  },
  {
   "cell_type": "code",
   "execution_count": 22,
   "id": "e0404774",
   "metadata": {},
   "outputs": [
    {
     "name": "stdout",
     "output_type": "stream",
     "text": [
      "[3, 43, 455, 43, 543]\n"
     ]
    }
   ],
   "source": [
    "\"\"\"\n",
    "Filter\n",
    "1.Using the given list lis1 = [3,12, 24, 36,43,654,65432,2,654,455,43,543]\n",
    "filter the numbers in list which are not divisible by 2\n",
    "\"\"\"\n",
    "lis1 = [3,12, 24, 36,43,654,65432,2,654,455,43,543]\n",
    "k = list(filter(lambda x: x%2!=0,lis1))\n",
    "print(k)"
   ]
  },
  {
   "cell_type": "code",
   "execution_count": 23,
   "id": "ac009ff6",
   "metadata": {},
   "outputs": [
    {
     "name": "stdout",
     "output_type": "stream",
     "text": [
      "[2, 4, 6]\n"
     ]
    }
   ],
   "source": [
    "\"\"\"\n",
    "2.For a given list1 = [1, 2, 3, 4, 5, 6] filter only the even numbers (Use\n",
    "filter).\n",
    "\"\"\"\n",
    "list1 = [1, 2, 3, 4, 5, 6]\n",
    "ed = list(filter(lambda x: x%2==0,list1))\n",
    "print(ed)"
   ]
  },
  {
   "cell_type": "code",
   "execution_count": 24,
   "id": "3390d5e4",
   "metadata": {},
   "outputs": [
    {
     "name": "stdout",
     "output_type": "stream",
     "text": [
      "Enter the list to find even numbers in it: [5,7,8,9,26,33,97,83,102]\n",
      "['5', '7', '8', '9', '26', '33', '97', '83', '102']\n",
      "[8, 26, 102]\n"
     ]
    }
   ],
   "source": [
    "\"\"\"\n",
    "3. For a given list = [2,3,5,3,6,3,7,4,6,7] filter only the even numbers using\n",
    "user defined function.\n",
    "\"\"\"\n",
    "def ed(a_n):\n",
    "    o=\"\"\n",
    "    l=[]\n",
    "    for i in a_n:\n",
    "        if i!=\"[\"and i!=\"]\":\n",
    "            o+=i\n",
    "    p=o.split(\",\")\n",
    "    print(p)\n",
    "    for j in p:\n",
    "        op=int(j)\n",
    "        l.append(op)\n",
    "    g=list(filter(lambda n : n%2==0,l))\n",
    "    return g\n",
    "\n",
    "lt=input(\"Enter the list to find even numbers in it: \")\n",
    "print(ed(lt))"
   ]
  },
  {
   "cell_type": "code",
   "execution_count": 25,
   "id": "5d943a1c",
   "metadata": {},
   "outputs": [
    {
     "name": "stdout",
     "output_type": "stream",
     "text": [
      "Enter the list to find odd numbers in it: [35,78,99,88,66,56,4,78,29,08,67,98,68]\n",
      "['35', '78', '99', '88', '66', '56', '4', '78', '29', '08', '67', '98', '68']\n",
      "[35, 99, 29, 67]\n"
     ]
    }
   ],
   "source": [
    "\"\"\"\n",
    "4. For a given list = [1, 12, 31, 4, 15, 6, 7] filter only the odd numbers using\n",
    "user defined function.\n",
    "\"\"\"\n",
    "def ed(a_n):\n",
    "    o=\"\"\n",
    "    l=[]\n",
    "    for i in a_n:\n",
    "        if i!=\"[\"and i!=\"]\":\n",
    "            o+=i\n",
    "    p=o.split(\",\")\n",
    "    print(p)\n",
    "    for j in p:\n",
    "        op=int(j)\n",
    "        l.append(op)\n",
    "    g=list(filter(lambda n : n%2!=0,l))\n",
    "    return g\n",
    "\n",
    "lt=input(\"Enter the list to find odd numbers in it: \")\n",
    "print(ed(lt))"
   ]
  },
  {
   "cell_type": "code",
   "execution_count": 26,
   "id": "af13031a",
   "metadata": {},
   "outputs": [
    {
     "name": "stdout",
     "output_type": "stream",
     "text": [
      "24\n"
     ]
    }
   ],
   "source": [
    "\"\"\"\n",
    "Reduce\n",
    "1.For list = [1, 2, 3, 4] multiply all the elements (use reduce function)\n",
    "\"\"\"\n",
    "from functools import reduce\n",
    "list1 = [1, 2, 3, 4]\n",
    "mul=reduce((lambda x,y: x*y),list1 )\n",
    "print(mul)"
   ]
  },
  {
   "cell_type": "code",
   "execution_count": 27,
   "id": "d478e358",
   "metadata": {},
   "outputs": [
    {
     "name": "stdout",
     "output_type": "stream",
     "text": [
      "100\n"
     ]
    }
   ],
   "source": [
    "\"\"\"\n",
    "2. For list = [ 11 , 13, 15, 16, 2,43 ] sum all the elements (use reduce\n",
    "function)\n",
    "\"\"\"\n",
    "import functools\n",
    "list1 = [ 11 , 13, 15, 16, 2,43 ]\n",
    "sum = functools.reduce((lambda x,y: x+y),list1)\n",
    "print(sum)"
   ]
  },
  {
   "cell_type": "code",
   "execution_count": 28,
   "id": "dedfd6cb",
   "metadata": {},
   "outputs": [
    {
     "name": "stdout",
     "output_type": "stream",
     "text": [
      "4567\n"
     ]
    }
   ],
   "source": [
    "\"\"\"\n",
    "3. Find the maximum value in the list = [543,7,6,4567,7,78,6,6,78,765,678] (use\n",
    "reduce function)\n",
    "\"\"\"\n",
    "from functools import reduce\n",
    "list1 = [543,7,6,4567,7,78,6,6,78,765,678]\n",
    "maxval=reduce((lambda x,y : x if x>y else y), list1)\n",
    "print(maxval)"
   ]
  },
  {
   "cell_type": "code",
   "execution_count": 29,
   "id": "092edafe",
   "metadata": {},
   "outputs": [
    {
     "name": "stdout",
     "output_type": "stream",
     "text": [
      "6\n"
     ]
    }
   ],
   "source": [
    "\"\"\"\n",
    "4. Find the minimum value in the list= [543,7,6,4567,7,78,6,6,78,765,678] (use\n",
    "reduce function)\n",
    "\"\"\"\n",
    "import functools\n",
    "list1= [543,7,6,4567,7,78,6,6,78,765,678]\n",
    "minval= functools.reduce((lambda x,y: x if x<y else y),list1)\n",
    "print(minval)"
   ]
  },
  {
   "cell_type": "code",
   "execution_count": null,
   "id": "3832e167",
   "metadata": {},
   "outputs": [],
   "source": []
  }
 ],
 "metadata": {
  "kernelspec": {
   "display_name": "Python 3 (ipykernel)",
   "language": "python",
   "name": "python3"
  },
  "language_info": {
   "codemirror_mode": {
    "name": "ipython",
    "version": 3
   },
   "file_extension": ".py",
   "mimetype": "text/x-python",
   "name": "python",
   "nbconvert_exporter": "python",
   "pygments_lexer": "ipython3",
   "version": "3.11.5"
  }
 },
 "nbformat": 4,
 "nbformat_minor": 5
}
